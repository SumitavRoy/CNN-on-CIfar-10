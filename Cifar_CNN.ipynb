{
  "nbformat": 4,
  "nbformat_minor": 0,
  "metadata": {
    "accelerator": "GPU",
    "colab": {
      "name": "Cifar_CNN.ipynb",
      "provenance": [],
      "collapsed_sections": []
    },
    "kernelspec": {
      "display_name": "Python 3",
      "name": "python3"
    }
  },
  "cells": [
    {
      "cell_type": "code",
      "metadata": {
        "id": "7xSVj_gxcVQk"
      },
      "source": [
        "import tensorflow as tf\r\n",
        "import numpy as np\r\n",
        "import pandas as pd\r\n",
        "from tensorflow.keras.datasets import cifar10\r\n",
        "from sklearn.preprocessing import StandardScaler\r\n",
        "from tensorflow.keras.layers import Conv2D , MaxPool2D , Flatten , Dense , Dropout\r\n",
        "from tensorflow.keras.models import Sequential\r\n",
        "from tensorflow.keras.utils import to_categorical\r\n",
        "\r\n",
        "import matplotlib.pyplot as plt"
      ],
      "execution_count": 1,
      "outputs": []
    },
    {
      "cell_type": "code",
      "metadata": {
        "id": "9ucWfSaBdVoL"
      },
      "source": [
        "#loading the dataset\r\n",
        "\r\n",
        "(X_train, Y_train), (X_test , Y_test) =cifar10.load_data()"
      ],
      "execution_count": 2,
      "outputs": []
    },
    {
      "cell_type": "code",
      "metadata": {
        "colab": {
          "base_uri": "https://localhost:8080/"
        },
        "id": "9QRJAi8edpNO",
        "outputId": "334d4264-2520-48aa-be49-d403167fc829"
      },
      "source": [
        "X_train.shape"
      ],
      "execution_count": 3,
      "outputs": [
        {
          "output_type": "execute_result",
          "data": {
            "text/plain": [
              "(50000, 32, 32, 3)"
            ]
          },
          "metadata": {
            "tags": []
          },
          "execution_count": 3
        }
      ]
    },
    {
      "cell_type": "code",
      "metadata": {
        "id": "xVR-XUxYdss2"
      },
      "source": [
        "#naming all the class\r\n",
        "\r\n",
        "classes = ['airplane','automobile','bird','cat','deer','dog','frog','horse','ship','truck']"
      ],
      "execution_count": 4,
      "outputs": []
    },
    {
      "cell_type": "code",
      "metadata": {
        "colab": {
          "base_uri": "https://localhost:8080/",
          "height": 36
        },
        "id": "jhKbiQtuePQP",
        "outputId": "9d110daf-b90a-4778-df82-3f918569fdb5"
      },
      "source": [
        "classes[Y_train[6][0]]"
      ],
      "execution_count": 5,
      "outputs": [
        {
          "output_type": "execute_result",
          "data": {
            "application/vnd.google.colaboratory.intrinsic+json": {
              "type": "string"
            },
            "text/plain": [
              "'bird'"
            ]
          },
          "metadata": {
            "tags": []
          },
          "execution_count": 5
        }
      ]
    },
    {
      "cell_type": "code",
      "metadata": {
        "colab": {
          "base_uri": "https://localhost:8080/",
          "height": 284
        },
        "id": "4Q53mq6oeURd",
        "outputId": "509a8802-e4c1-4c0a-9a5d-dd6683e8d0f3"
      },
      "source": [
        "#visualising the data\r\n",
        "\r\n",
        "plt.imshow(X_train[6])\r\n",
        "#np.argmax(Y_train[4])"
      ],
      "execution_count": 6,
      "outputs": [
        {
          "output_type": "execute_result",
          "data": {
            "text/plain": [
              "<matplotlib.image.AxesImage at 0x7fd5a0034ac8>"
            ]
          },
          "metadata": {
            "tags": []
          },
          "execution_count": 6
        },
        {
          "output_type": "display_data",
          "data": {
            "image/png": "[encoded data removed]",
            "text/plain": [
              "<Figure size 432x288 with 1 Axes>"
            ]
          },
          "metadata": {
            "tags": [],
            "needs_background": "light"
          }
        }
      ]
    },
    {
      "cell_type": "code",
      "metadata": {
        "id": "ujIYJBSRemqd"
      },
      "source": [
        "#normalising the data\r\n",
        "\r\n",
        "X_train, X_test = X_train / 255.0 , X_test / 255.0\r\n",
        "\r\n",
        "#converting to categorical data\r\n",
        "\r\n",
        "Y_train , Y_test = to_categorical(Y_train) , to_categorical(Y_test)"
      ],
      "execution_count": 7,
      "outputs": []
    },
    {
      "cell_type": "code",
      "metadata": {
        "colab": {
          "base_uri": "https://localhost:8080/"
        },
        "id": "yvdp2xE7llHf",
        "outputId": "85d59990-a911-487a-a543-45716cb3e4ba"
      },
      "source": [
        "Y_train"
      ],
      "execution_count": 8,
      "outputs": [
        {
          "output_type": "execute_result",
          "data": {
            "text/plain": [
              "array([[0., 0., 0., ..., 0., 0., 0.],\n",
              "       [0., 0., 0., ..., 0., 0., 1.],\n",
              "       [0., 0., 0., ..., 0., 0., 1.],\n",
              "       ...,\n",
              "       [0., 0., 0., ..., 0., 0., 1.],\n",
              "       [0., 1., 0., ..., 0., 0., 0.],\n",
              "       [0., 1., 0., ..., 0., 0., 0.]], dtype=float32)"
            ]
          },
          "metadata": {
            "tags": []
          },
          "execution_count": 8
        }
      ]
    },
    {
      "cell_type": "code",
      "metadata": {
        "id": "W8WGV4H2mbGT"
      },
      "source": [
        "model = Sequential()\r\n",
        "\r\n",
        "#conv1\r\n",
        "model.add(Conv2D(32 , (3,3) , activation= 'relu', kernel_initializer='he_uniform' ))\r\n",
        "model.add(MaxPool2D((2,2)))\r\n",
        "\r\n",
        "#conv2\r\n",
        "model.add(Conv2D(64 , (3,3) , activation= 'relu', kernel_initializer='he_uniform' ))\r\n",
        "model.add(MaxPool2D((2,2)))\r\n",
        "\r\n",
        "#conv3\r\n",
        "model.add(Conv2D(128 , (3,3) , activation= 'relu', kernel_initializer='he_uniform' ))\r\n",
        "model.add(MaxPool2D((2,2)))\r\n",
        "\r\n",
        "model.add(Flatten())\r\n",
        "\r\n",
        "#Drafting ANN Model\r\n",
        "model.add(Dense(200 , activation= 'relu'))\r\n",
        "model.add(Dropout(0.2))\r\n",
        "\r\n",
        "model.add(Dense(100 , activation= 'tanh'))\r\n",
        "model.add(Dropout(0.2))\r\n",
        "\r\n",
        "model.add(Dense(50 , activation= 'relu'))\r\n",
        "model.add(Dropout(0.2))\r\n",
        "\r\n",
        "model.add(Dense(25 , activation= 'tanh'))\r\n",
        "model.add(Dropout(0.2))\r\n",
        "\r\n",
        "model.add(Dense(10 , activation = 'softmax'))\r\n"
      ],
      "execution_count": 9,
      "outputs": []
    },
    {
      "cell_type": "code",
      "metadata": {
        "colab": {
          "base_uri": "https://localhost:8080/"
        },
        "id": "volTmP_by5Nz",
        "outputId": "9501462a-8f0e-4f31-f1af-67e80e465e22"
      },
      "source": [
        "model.compile(optimizer = 'adam' , loss = 'categorical_crossentropy' , metrics = ['accuracy'])\r\n",
        "model.fit(X_train , Y_train , epochs = 30 , batch_size = 32)"
      ],
      "execution_count": 10,
      "outputs": [
        {
          "output_type": "stream",
          "text": [
            "Epoch 1/30\n",
            "1563/1563 [==============================] - 9s 4ms/step - loss: 1.9294 - accuracy: 0.2732\n",
            "Epoch 2/30\n",
            "1563/1563 [==============================] - 6s 4ms/step - loss: 1.3764 - accuracy: 0.5084\n",
            "Epoch 3/30\n",
            "1563/1563 [==============================] - 6s 4ms/step - loss: 1.1852 - accuracy: 0.5912\n",
            "Epoch 4/30\n",
            "1563/1563 [==============================] - 6s 4ms/step - loss: 1.0575 - accuracy: 0.6386\n",
            "Epoch 5/30\n",
            "1563/1563 [==============================] - 6s 4ms/step - loss: 0.9746 - accuracy: 0.6711\n",
            "Epoch 6/30\n",
            "1563/1563 [==============================] - 6s 4ms/step - loss: 0.9006 - accuracy: 0.6998\n",
            "Epoch 7/30\n",
            "1563/1563 [==============================] - 6s 4ms/step - loss: 0.8395 - accuracy: 0.7178\n",
            "Epoch 8/30\n",
            "1563/1563 [==============================] - 6s 4ms/step - loss: 0.7901 - accuracy: 0.7373\n",
            "Epoch 9/30\n",
            "1563/1563 [==============================] - 6s 4ms/step - loss: 0.7503 - accuracy: 0.7543\n",
            "Epoch 10/30\n",
            "1563/1563 [==============================] - 6s 4ms/step - loss: 0.6994 - accuracy: 0.7703\n",
            "Epoch 11/30\n",
            "1563/1563 [==============================] - 6s 4ms/step - loss: 0.6696 - accuracy: 0.7826\n",
            "Epoch 12/30\n",
            "1563/1563 [==============================] - 6s 4ms/step - loss: 0.6261 - accuracy: 0.7958\n",
            "Epoch 13/30\n",
            "1563/1563 [==============================] - 6s 4ms/step - loss: 0.6117 - accuracy: 0.8036\n",
            "Epoch 14/30\n",
            "1563/1563 [==============================] - 6s 4ms/step - loss: 0.5684 - accuracy: 0.8133\n",
            "Epoch 15/30\n",
            "1563/1563 [==============================] - 6s 4ms/step - loss: 0.5694 - accuracy: 0.8153\n",
            "Epoch 16/30\n",
            "1563/1563 [==============================] - 6s 4ms/step - loss: 0.5214 - accuracy: 0.8327\n",
            "Epoch 17/30\n",
            "1563/1563 [==============================] - 6s 4ms/step - loss: 0.5044 - accuracy: 0.8399\n",
            "Epoch 18/30\n",
            "1563/1563 [==============================] - 6s 4ms/step - loss: 0.4792 - accuracy: 0.8461\n",
            "Epoch 19/30\n",
            "1563/1563 [==============================] - 6s 4ms/step - loss: 0.4721 - accuracy: 0.8475\n",
            "Epoch 20/30\n",
            "1563/1563 [==============================] - 6s 4ms/step - loss: 0.4603 - accuracy: 0.8538\n",
            "Epoch 21/30\n",
            "1563/1563 [==============================] - 6s 4ms/step - loss: 0.4358 - accuracy: 0.8626\n",
            "Epoch 22/30\n",
            "1563/1563 [==============================] - 6s 4ms/step - loss: 0.4125 - accuracy: 0.8700\n",
            "Epoch 23/30\n",
            "1563/1563 [==============================] - 6s 4ms/step - loss: 0.4043 - accuracy: 0.8734\n",
            "Epoch 24/30\n",
            "1563/1563 [==============================] - 6s 4ms/step - loss: 0.4031 - accuracy: 0.8728\n",
            "Epoch 25/30\n",
            "1563/1563 [==============================] - 6s 4ms/step - loss: 0.3731 - accuracy: 0.8837\n",
            "Epoch 26/30\n",
            "1563/1563 [==============================] - 6s 4ms/step - loss: 0.3828 - accuracy: 0.8798\n",
            "Epoch 27/30\n",
            "1563/1563 [==============================] - 6s 4ms/step - loss: 0.3637 - accuracy: 0.8855\n",
            "Epoch 28/30\n",
            "1563/1563 [==============================] - 6s 4ms/step - loss: 0.3711 - accuracy: 0.8862\n",
            "Epoch 29/30\n",
            "1563/1563 [==============================] - 6s 4ms/step - loss: 0.3510 - accuracy: 0.8914\n",
            "Epoch 30/30\n",
            "1563/1563 [==============================] - 7s 4ms/step - loss: 0.3462 - accuracy: 0.8924\n"
          ],
          "name": "stdout"
        },
        {
          "output_type": "execute_result",
          "data": {
            "text/plain": [
              "<tensorflow.python.keras.callbacks.History at 0x7fd5900846d8>"
            ]
          },
          "metadata": {
            "tags": []
          },
          "execution_count": 10
        }
      ]
    },
    {
      "cell_type": "code",
      "metadata": {
        "id": "QwvgdVzPz0ka",
        "colab": {
          "base_uri": "https://localhost:8080/"
        },
        "outputId": "6ffc647b-5289-490e-900f-b06d089246ae"
      },
      "source": [
        "model.evaluate(X_test, Y_test)"
      ],
      "execution_count": 11,
      "outputs": [
        {
          "output_type": "stream",
          "text": [
            "313/313 [==============================] - 1s 3ms/step - loss: 1.1510 - accuracy: 0.7155\n"
          ],
          "name": "stdout"
        },
        {
          "output_type": "execute_result",
          "data": {
            "text/plain": [
              "[1.150990605354309, 0.715499997138977]"
            ]
          },
          "metadata": {
            "tags": []
          },
          "execution_count": 11
        }
      ]
    },
    {
      "cell_type": "code",
      "metadata": {
        "colab": {
          "base_uri": "https://localhost:8080/"
        },
        "id": "ZWX3MWQe-2Af",
        "outputId": "6fe716b5-a5d8-43f2-be11-27c372ef61ca"
      },
      "source": [
        "Y_pred = model.predict(X_test)\r\n",
        "Y_pred"
      ],
      "execution_count": 12,
      "outputs": [
        {
          "output_type": "execute_result",
          "data": {
            "text/plain": [
              "array([[2.7863105e-04, 3.8127215e-05, 2.6520626e-03, ..., 5.5900851e-04,\n",
              "        5.4962758e-04, 4.6699450e-04],\n",
              "       [2.9470921e-03, 8.0036267e-04, 2.7510597e-04, ..., 3.6644076e-05,\n",
              "        9.9272001e-01, 2.4169562e-03],\n",
              "       [1.1308760e-02, 7.5384188e-01, 4.5044205e-04, ..., 1.7506984e-03,\n",
              "        3.5937812e-02, 1.9474360e-01],\n",
              "       ...,\n",
              "       [8.6929293e-05, 8.7561224e-05, 1.9273136e-03, ..., 2.6268768e-03,\n",
              "        3.6422607e-05, 4.5740941e-05],\n",
              "       [1.5630774e-02, 9.3048787e-01, 6.8671242e-03, ..., 4.7508013e-04,\n",
              "        2.1140402e-02, 9.3181720e-03],\n",
              "       [1.3071221e-04, 2.7671078e-05, 3.1364217e-04, ..., 9.9419385e-01,\n",
              "        9.2297323e-06, 3.1466168e-04]], dtype=float32)"
            ]
          },
          "metadata": {
            "tags": []
          },
          "execution_count": 12
        }
      ]
    },
    {
      "cell_type": "code",
      "metadata": {
        "colab": {
          "base_uri": "https://localhost:8080/",
          "height": 36
        },
        "id": "3Re6vqie-9B5",
        "outputId": "2f8806b7-d4c1-479c-c4ae-153a18bc2234"
      },
      "source": [
        "#predicted\r\n",
        "\r\n",
        "classes[np.argmax(Y_pred[90])]"
      ],
      "execution_count": 13,
      "outputs": [
        {
          "output_type": "execute_result",
          "data": {
            "application/vnd.google.colaboratory.intrinsic+json": {
              "type": "string"
            },
            "text/plain": [
              "'airplane'"
            ]
          },
          "metadata": {
            "tags": []
          },
          "execution_count": 13
        }
      ]
    },
    {
      "cell_type": "code",
      "metadata": {
        "colab": {
          "base_uri": "https://localhost:8080/",
          "height": 284
        },
        "id": "fzBS8bdT_c92",
        "outputId": "b83a0981-12e0-4014-c11c-ba50e5abb0c9"
      },
      "source": [
        "#visualising the prediction\r\n",
        "\r\n",
        "plt.imshow(X_test[90])"
      ],
      "execution_count": 14,
      "outputs": [
        {
          "output_type": "execute_result",
          "data": {
            "text/plain": [
              "<matplotlib.image.AxesImage at 0x7fd500edf400>"
            ]
          },
          "metadata": {
            "tags": []
          },
          "execution_count": 14
        },
        {
          "output_type": "display_data",
          "data": {
            "image/png": "[encoded data removed]",
            "text/plain": [
              "<Figure size 432x288 with 1 Axes>"
            ]
          },
          "metadata": {
            "tags": [],
            "needs_background": "light"
          }
        }
      ]
    },
    {
      "cell_type": "code",
      "metadata": {
        "colab": {
          "base_uri": "https://localhost:8080/"
        },
        "id": "cbn9uQEQ_ikH",
        "outputId": "1a21eaca-291d-46bd-b6e1-06cc17c1b81b"
      },
      "source": [
        "#saving the model\r\n",
        "\r\n",
        "model.save('CNN_Model_cifar')"
      ],
      "execution_count": 15,
      "outputs": [
        {
          "output_type": "stream",
          "text": [
            "INFO:tensorflow:Assets written to: CNN_Model_cifar/assets\n"
          ],
          "name": "stdout"
        }
      ]
    },
    {
      "cell_type": "code",
      "metadata": {
        "id": "rhiXevULCIux"
      },
      "source": [
        ""
      ],
      "execution_count": null,
      "outputs": []
    }
  ]
}